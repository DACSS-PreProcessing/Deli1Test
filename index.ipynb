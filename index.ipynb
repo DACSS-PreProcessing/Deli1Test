{
 "cells": [
  {
   "cell_type": "markdown",
   "id": "e1515544-8637-45e8-9de0-ef25cade8a19",
   "metadata": {},
   "source": [
    "# Scraping some data\n",
    "\n",
    "Code to download the tables available in the Wikipedia page:"
   ]
  },
  {
   "cell_type": "code",
   "execution_count": 2,
   "id": "e4fd04d9-9996-456e-bc20-42e3defb9854",
   "metadata": {},
   "outputs": [],
   "source": [
    "# URL\n",
    "wikiLink=\"https://en.wikipedia.org/wiki/International_Innovation_Index\"\n",
    "\n",
    "# pandas \n",
    "\n",
    "import pandas as pd\n",
    "\n",
    "wikiTables=pd.read_html(io=wikiLink,flavor='bs4',attrs={\"class\":\"wikitable\"})"
   ]
  },
  {
   "cell_type": "code",
   "execution_count": 6,
   "id": "49245afa-3a78-4cd8-a3f1-a4dd17c2700d",
   "metadata": {},
   "outputs": [
    {
     "name": "stdout",
     "output_type": "stream",
     "text": [
      "<class 'pandas.core.frame.DataFrame'>\n",
      "RangeIndex: 110 entries, 0 to 109\n",
      "Data columns (total 5 columns):\n",
      " #   Column                  Non-Null Count  Dtype  \n",
      "---  ------                  --------------  -----  \n",
      " 0   Rank                    110 non-null    int64  \n",
      " 1   Country                 110 non-null    object \n",
      " 2   Overall                 110 non-null    float64\n",
      " 3   Innovation inputs       110 non-null    float64\n",
      " 4   Innovation performance  110 non-null    float64\n",
      "dtypes: float64(3), int64(1), object(1)\n",
      "memory usage: 4.4+ KB\n"
     ]
    }
   ],
   "source": [
    "IIindex=wikiTables[1]\n",
    "\n",
    "IIindex.info()"
   ]
  },
  {
   "cell_type": "code",
   "execution_count": 8,
   "id": "cb251559-3f78-4da2-9f96-f49c7e1e83d1",
   "metadata": {},
   "outputs": [],
   "source": [
    "import os\n",
    "\n",
    "IIindex.to_csv(os.path.join(\"dataFiles\",\"IIindex_py.csv\"),index=False)"
   ]
  },
  {
   "cell_type": "code",
   "execution_count": null,
   "id": "cace3ff3-17f9-469e-8278-279ee993453f",
   "metadata": {},
   "outputs": [],
   "source": []
  }
 ],
 "metadata": {
  "kernelspec": {
   "display_name": "Python 3 (ipykernel)",
   "language": "python",
   "name": "python3"
  },
  "language_info": {
   "codemirror_mode": {
    "name": "ipython",
    "version": 3
   },
   "file_extension": ".py",
   "mimetype": "text/x-python",
   "name": "python",
   "nbconvert_exporter": "python",
   "pygments_lexer": "ipython3",
   "version": "3.12.0"
  }
 },
 "nbformat": 4,
 "nbformat_minor": 5
}
